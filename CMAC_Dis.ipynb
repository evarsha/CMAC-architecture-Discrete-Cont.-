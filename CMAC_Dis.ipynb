{
 "cells": [
  {
   "cell_type": "markdown",
   "metadata": {},
   "source": [
    "# 1. Importing Libraries"
   ]
  },
  {
   "cell_type": "code",
   "execution_count": 1,
   "metadata": {},
   "outputs": [],
   "source": [
    "\n",
    "import numpy as np\n",
    "import matplotlib.pyplot as plt\n",
    "import math\n",
    "import random"
   ]
  },
  {
   "cell_type": "markdown",
   "metadata": {},
   "source": [
    "# 2.Data Preparation"
   ]
  },
  {
   "cell_type": "code",
   "execution_count": 2,
   "metadata": {},
   "outputs": [],
   "source": [
    "\n",
    "x = np.arange(0,100)\n",
    "y = np.sin(2*np.pi*x/100)\n",
    "#print(y)\n",
    "\n",
    "data = np.squeeze(np.dstack((x, y)))\n",
    "#print(data)\n",
    "\n",
    "train_data=[]\n",
    "test_data=[]\n",
    "\n",
    "for i in range(0,100):\n",
    "    if i%3 == 0 and i%30 != 0 :\n",
    "        test_data.append(data[i])                    \n",
    "    else:\n",
    "        train_data.append(data[i])\n",
    "        \n",
    "train_data=np.squeeze(train_data)        \n",
    "test_data=np.squeeze(test_data)\n",
    "#print(len(train_data))"
   ]
  },
  {
   "cell_type": "code",
   "execution_count": 3,
   "metadata": {},
   "outputs": [
    {
     "data": {
      "image/png": "[encoded data removed]",
      "text/plain": [
       "<Figure size 432x288 with 1 Axes>"
      ]
     },
     "metadata": {
      "needs_background": "light"
     },
     "output_type": "display_data"
    },
    {
     "data": {
      "text/plain": [
       "(<matplotlib.legend.Legend at 0x297867a5978>, None)"
      ]
     },
     "execution_count": 3,
     "metadata": {},
     "output_type": "execute_result"
    }
   ],
   "source": [
    "\n",
    "X_train = train_data[:, 0]\n",
    "y_train = train_data[:, 1]\n",
    "X_test = test_data[:,0]\n",
    "y_test = test_data[:,1]\n",
    "\n",
    "#print(X_train)\n",
    "\n",
    "plt.plot(X_train,y_train,'r+',label = 'Input data')\n",
    "plt.plot(X_test,y_test,'b+',label = 'Test data')\n",
    "plt.xlabel('Data points'), plt.ylabel('Sine wave')\n",
    "plt.legend(), plt.show()"
   ]
  },
  {
   "cell_type": "code",
   "execution_count": null,
   "metadata": {},
   "outputs": [],
   "source": []
  }
 ],
 "metadata": {
  "kernelspec": {
   "display_name": "Python 3",
   "language": "python",
   "name": "python3"
  },
  "language_info": {
   "codemirror_mode": {
    "name": "ipython",
    "version": 3
   },
   "file_extension": ".py",
   "mimetype": "text/x-python",
   "name": "python",
   "nbconvert_exporter": "python",
   "pygments_lexer": "ipython3",
   "version": "3.7.0"
  }
 },
 "nbformat": 4,
 "nbformat_minor": 2
}
